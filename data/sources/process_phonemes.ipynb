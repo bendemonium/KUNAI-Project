{
 "cells": [
  {
   "cell_type": "code",
   "execution_count": 1,
   "id": "0515abb3-c328-4dbc-92d3-f2f65d0fb989",
   "metadata": {},
   "outputs": [],
   "source": [
    "import csv\n",
    "import json\n",
    "from collections import defaultdict"
   ]
  },
  {
   "cell_type": "code",
   "execution_count": 3,
   "id": "8ec5f940-8776-469c-b14a-a412f16bfcdd",
   "metadata": {},
   "outputs": [],
   "source": [
    "def process_csv(file_path):\n",
    "    languages = defaultdict(lambda: {\"phonemes\": set(), \"allophones\": {}})\n",
    "    phoneme_features = {}\n",
    "    prosodic_features = defaultdict(dict)\n",
    "\n",
    "    with open(file_path, 'r', encoding='utf-8') as csvfile:\n",
    "        reader = csv.DictReader(csvfile)\n",
    "        for row in reader:\n",
    "            glottocode = row['Glottocode']\n",
    "            phoneme = row['Phoneme']\n",
    "            allophones = row['Allophones']\n",
    "            \n",
    "            # Always add the phoneme to the language's phoneme set\n",
    "            languages[glottocode][\"phonemes\"].add(phoneme)\n",
    "            \n",
    "            # Only add to allophones if it's not 'NA'\n",
    "            if allophones != \"NA\":\n",
    "                languages[glottocode][\"allophones\"][phoneme] = allophones.split()\n",
    "            \n",
    "            # Phoneme features\n",
    "            features = {\n",
    "                key: value for key, value in row.items() \n",
    "                if key not in ['InventoryID', 'Glottocode', 'ISO639-3', 'LanguageName', 'SpecificDialect', 'GlyphID', 'Phoneme', 'Allophones', 'MarginalSegment', 'Class', 'Source']\n",
    "            }\n",
    "            phoneme_features[phoneme] = features\n",
    "            \n",
    "            # Prosodic features (now phoneme-specific for each language)\n",
    "            prosodic_features[glottocode][phoneme] = {\n",
    "                \"tone\": row['tone'],\n",
    "                \"stress\": row['stress'],\n",
    "                \"syllabic\": row['syllabic']\n",
    "            }\n",
    "\n",
    "    return languages, phoneme_features, prosodic_features"
   ]
  },
  {
   "cell_type": "code",
   "execution_count": 4,
   "id": "52ab781e-bd2f-4bf5-8b18-b96f7d0db19e",
   "metadata": {},
   "outputs": [],
   "source": [
    "def save_json(data, filename):\n",
    "    with open(filename, 'w', encoding='utf-8') as f:\n",
    "        json.dump(data, f, ensure_ascii=False, indent=2)"
   ]
  },
  {
   "cell_type": "code",
   "execution_count": 5,
   "id": "2546eee3-62ff-478f-9091-de4bbb5f55a0",
   "metadata": {},
   "outputs": [],
   "source": [
    "# Process the CSV file\n",
    "csv_file_path = 'phonemes.csv'  # Replace with your actual CSV file path\n",
    "languages, phoneme_features, prosodic_features = process_csv(csv_file_path)\n",
    "\n",
    "# Prepare data for JSON files\n",
    "language_phonemes = {glottocode: list(data[\"phonemes\"]) for glottocode, data in languages.items()}\n",
    "language_allophones = {glottocode: {phoneme: list(allophones) for phoneme, allophones in data[\"allophones\"].items()} for glottocode, data in languages.items()}\n",
    "\n",
    "# Save JSON files\n",
    "save_json(language_phonemes, 'language_phonemes.json')\n",
    "save_json(phoneme_features, 'phoneme_features.json')\n",
    "save_json(prosodic_features, 'prosodic_features.json')\n",
    "save_json(language_allophones, 'language_allophones.json')"
   ]
  },
  {
   "cell_type": "code",
   "execution_count": null,
   "id": "2b450f26-d3d3-4336-b458-56ccb10e1171",
   "metadata": {},
   "outputs": [],
   "source": []
  }
 ],
 "metadata": {
  "kernelspec": {
   "display_name": "Python 3 (ipykernel)",
   "language": "python",
   "name": "python3"
  },
  "language_info": {
   "codemirror_mode": {
    "name": "ipython",
    "version": 3
   },
   "file_extension": ".py",
   "mimetype": "text/x-python",
   "name": "python",
   "nbconvert_exporter": "python",
   "pygments_lexer": "ipython3",
   "version": "3.11.7"
  }
 },
 "nbformat": 4,
 "nbformat_minor": 5
}
